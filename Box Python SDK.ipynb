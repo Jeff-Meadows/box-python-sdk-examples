{
 "cells": [
  {
   "cell_type": "markdown",
   "metadata": {
    "slideshow": {
     "slide_type": "slide"
    }
   },
   "source": [
    "The **Box API** provides a great way to securely connect your application to the Box platform.\n",
    "\n",
    "The **Box Python SDK** makes consuming the API an easy task. Let's see how easy it is to get started.\n",
    "\n",
    "To begin, we need 3 things:\n",
    "* A Box *client ID* for a Box application\n",
    "* The corresponding Box *client secret*\n",
    "* A valid *developer token* for that application\n",
    "\n",
    "You can get all 3 at http://developers.box.com - if you don't already have a Box application, you can sign up for one there.\n",
    "\n",
    "For this demo, I wrote these 3 things to a text file called `app.cfg`.\n",
    "\n",
    "Finally, we need to install the SDK:\n",
    "\n",
    "    pip install boxsdk\n",
    "\n",
    "Now we can start writing some code."
   ]
  },
  {
   "cell_type": "code",
   "execution_count": 1,
   "metadata": {
    "collapsed": true,
    "slideshow": {
     "slide_type": "subslide"
    }
   },
   "outputs": [],
   "source": [
    "# Import two classes from the boxsdk module - Client and OAuth2\n",
    "from boxsdk import Client, OAuth2\n",
    "\n",
    "# Define client ID, client secret, and developer token.\n",
    "CLIENT_ID = None\n",
    "CLIENT_SECRET = None\n",
    "ACCESS_TOKEN = None\n",
    "\n",
    "# Read app info from text file\n",
    "with open('app.cfg', 'r') as app_cfg:\n",
    "    CLIENT_ID = app_cfg.readline()\n",
    "    CLIENT_SECRET = app_cfg.readline()\n",
    "    ACCESS_TOKEN = app_cfg.readline()"
   ]
  },
  {
   "cell_type": "markdown",
   "metadata": {
    "slideshow": {
     "slide_type": "slide"
    }
   },
   "source": [
    "The Python SDK is organized into layers:\n",
    "* The **network** layer, responsible for making network calls.\n",
    "* The **session** layer, responsible for auth and retrying calls.\n",
    "* The **client** layer, which is the interface to your application.\n",
    "\n",
    "For demonstration purposes, I'm subclassing the default network layer to log network requests and responses."
   ]
  },
  {
   "cell_type": "code",
   "execution_count": 2,
   "metadata": {
    "collapsed": false,
    "slideshow": {
     "slide_type": "subslide"
    }
   },
   "outputs": [],
   "source": [
    "from boxsdk.network.default_network import DefaultNetwork\n",
    "from pprint import pformat\n",
    "\n",
    "class LoggingNetwork(DefaultNetwork):\n",
    "    def request(self, method, url, access_token, **kwargs):\n",
    "        \"\"\" Base class override. Pretty-prints outgoing requests and incoming responses. \"\"\"\n",
    "        print '\\x1b[36m{} {} {}\\x1b[0m'.format(method, url, pformat(kwargs))\n",
    "        response = super(LoggingNetwork, self).request(\n",
    "            method, url, access_token, **kwargs\n",
    "        )\n",
    "        if response.ok:\n",
    "            print '\\x1b[32m{}\\x1b[0m'.format(response.content)\n",
    "        else:\n",
    "            print '\\x1b[31m{}\\n{}\\n{}\\x1b[0m'.format(\n",
    "                response.status_code,\n",
    "                response.headers,\n",
    "                pformat(response.content),\n",
    "            )\n",
    "        return response"
   ]
  },
  {
   "cell_type": "code",
   "execution_count": 3,
   "metadata": {
    "collapsed": true,
    "slideshow": {
     "slide_type": "slide"
    }
   },
   "outputs": [],
   "source": [
    "# Create OAuth2 object. It's already authenticated, thanks to the developer token.\n",
    "oauth2 = OAuth2(CLIENT_ID, CLIENT_SECRET, access_token=ACCESS_TOKEN)\n",
    "\n",
    "# Create the authenticated client\n",
    "client = Client(oauth2, LoggingNetwork())"
   ]
  },
  {
   "cell_type": "markdown",
   "metadata": {
    "slideshow": {
     "slide_type": "subslide"
    }
   },
   "source": [
    "We now have a fully authenticated SDK client!\n",
    "\n",
    "Let's try it out."
   ]
  },
  {
   "cell_type": "markdown",
   "metadata": {
    "slideshow": {
     "slide_type": "slide"
    }
   },
   "source": [
    "The SDK's **Client** object contains a collection of methods that allow you to instantiate Box objects and endpoints.\n",
    "* `client.folder(folder_id)`\n",
    "* `client.file(file_id)`\n",
    "* `client.events()`\n",
    "* `client.search()`\n",
    "* `client.user(user_id)`\n",
    "\n",
    "Once you have a Box object, you can `get()` information about it, or do various operations (`delete()`, or upload/download)."
   ]
  },
  {
   "cell_type": "markdown",
   "metadata": {
    "slideshow": {
     "slide_type": "slide"
    }
   },
   "source": [
    "Let's look at the `User` object."
   ]
  },
  {
   "cell_type": "code",
   "execution_count": 4,
   "metadata": {
    "collapsed": false,
    "slideshow": {
     "slide_type": "subslide"
    }
   },
   "outputs": [
    {
     "name": "stdout",
     "output_type": "stream",
     "text": [
      "\u001b[36mGET https://api.box.com/2.0/users/me {'headers': {u'Authorization': u'Bearer vMPUC6ZGTD3AlW1HFD5ZAL5RZMdMkrEi\\n'},\n",
      " 'params': None}\u001b[0m\n",
      "\u001b[32m{\"type\":\"user\",\"id\":\"234630582\",\"name\":\"Jeff Boxdev\",\"login\":\"jrmeadows2+boxdev2015@gmail.com\",\"created_at\":\"2015-03-22T16:47:53-07:00\",\"modified_at\":\"2015-04-06T14:08:25-07:00\",\"language\":\"en\",\"timezone\":\"America\\/Los_Angeles\",\"space_amount\":10737418240,\"space_used\":0,\"max_upload_size\":262144000,\"status\":\"active\",\"job_title\":\"\",\"phone\":\"4126068527\",\"address\":\"\",\"avatar_url\":\"https:\\/\\/app.box.com\\/api\\/avatar\\/large\\/234630582\"}\u001b[0m\n",
      "Jeff Boxdev\n",
      "jrmeadows2+boxdev2015@gmail.com\n",
      "https://app.box.com/api/avatar/large/234630582\n"
     ]
    }
   ],
   "source": [
    "# Get information about the logged in user (that's whoever owns the developer token)\n",
    "my = client.user(user_id='me').get()\n",
    "print my.name\n",
    "print my.login\n",
    "print my.avatar_url"
   ]
  },
  {
   "cell_type": "markdown",
   "metadata": {
    "slideshow": {
     "slide_type": "slide"
    }
   },
   "source": [
    "Now let's look at some different objects, like `File` and `Folder`.\n",
    "\n",
    "`client.folder('0')` is a reference to the root folder (\"All Files\")."
   ]
  },
  {
   "cell_type": "code",
   "execution_count": 5,
   "metadata": {
    "collapsed": false,
    "slideshow": {
     "slide_type": "subslide"
    }
   },
   "outputs": [
    {
     "name": "stdout",
     "output_type": "stream",
     "text": [
      "\u001b[36mGET https://api.box.com/2.0/folders/0 {'headers': {u'Authorization': u'Bearer vMPUC6ZGTD3AlW1HFD5ZAL5RZMdMkrEi\\n'},\n",
      " 'params': None}\u001b[0m\n",
      "\u001b[32m{\"type\":\"folder\",\"id\":\"0\",\"sequence_id\":null,\"etag\":null,\"name\":\"All Files\",\"created_at\":null,\"modified_at\":null,\"description\":\"\",\"size\":0,\"path_collection\":{\"total_count\":0,\"entries\":[]},\"created_by\":{\"type\":\"user\",\"id\":\"\",\"name\":\"\",\"login\":\"\"},\"modified_by\":{\"type\":\"user\",\"id\":\"234630582\",\"name\":\"Jeff Boxdev\",\"login\":\"jrmeadows2+boxdev2015@gmail.com\"},\"trashed_at\":null,\"purged_at\":null,\"content_created_at\":null,\"content_modified_at\":null,\"owned_by\":{\"type\":\"user\",\"id\":\"234630582\",\"name\":\"Jeff Boxdev\",\"login\":\"jrmeadows2+boxdev2015@gmail.com\"},\"shared_link\":null,\"folder_upload_email\":null,\"parent\":null,\"item_status\":\"active\",\"item_collection\":{\"total_count\":0,\"entries\":[],\"offset\":0,\"limit\":100,\"order\":[{\"by\":\"type\",\"direction\":\"ASC\"},{\"by\":\"name\",\"direction\":\"ASC\"}]}}\u001b[0m\n"
     ]
    }
   ],
   "source": [
    "root_folder = client.folder('0')\n",
    "root_folder_with_info = root_folder.get()"
   ]
  },
  {
   "cell_type": "code",
   "execution_count": 6,
   "metadata": {
    "collapsed": false,
    "slideshow": {
     "slide_type": "subslide"
    }
   },
   "outputs": [
    {
     "name": "stdout",
     "output_type": "stream",
     "text": [
      "\u001b[36mGET https://api.box.com/2.0/folders/0 {'headers': {u'Authorization': u'Bearer vMPUC6ZGTD3AlW1HFD5ZAL5RZMdMkrEi\\n'},\n",
      " 'params': {u'fields': u'owned_by'}}\u001b[0m\n",
      "\u001b[32m{\"type\":\"folder\",\"id\":\"0\",\"etag\":null,\"owned_by\":{\"type\":\"user\",\"id\":\"234630582\",\"name\":\"Jeff Boxdev\",\"login\":\"jrmeadows2+boxdev2015@gmail.com\"}}\u001b[0m\n"
     ]
    }
   ],
   "source": [
    "# Save time and bandwidth by only asking for the folder owner\n",
    "root_folder_with_limited_info = root_folder.get(fields=['owned_by'])"
   ]
  },
  {
   "cell_type": "markdown",
   "metadata": {
    "slideshow": {
     "slide_type": "slide"
    }
   },
   "source": [
    "The SDK makes it very easy to download and upload files.\n",
    "\n",
    "`Folder.upload(file_path ,filename)` uploads a file to that folder, and `Folder.upload_stream(stream, filename)` uploads the contents of a stream as a file to the folder. Both methods return a `File` object."
   ]
  },
  {
   "cell_type": "code",
   "execution_count": 7,
   "metadata": {
    "collapsed": false,
    "slideshow": {
     "slide_type": "subslide"
    }
   },
   "outputs": [
    {
     "name": "stdout",
     "output_type": "stream",
     "text": [
      "\u001b[36mPOST https://upload.box.com/api/2.0/files/content {'data': {u'attributes': '{\"name\": \"box-python-sdk-test.txt\", \"parent\": {\"id\": \"0\"}}'},\n",
      " 'files': {u'file': (u'unused', <StringIO.StringIO instance at 0x106b30b00>)},\n",
      " 'headers': {u'Authorization': u'Bearer vMPUC6ZGTD3AlW1HFD5ZAL5RZMdMkrEi\\n'}}\u001b[0m\n",
      "\u001b[32m{\"total_count\":1,\"entries\":[{\"type\":\"file\",\"id\":\"28430517200\",\"file_version\":{\"type\":\"file_version\",\"id\":\"27041592694\",\"sha1\":\"30e6d6373e1d275073b5e4b0244368cc40566f98\"},\"sequence_id\":\"0\",\"etag\":\"0\",\"sha1\":\"30e6d6373e1d275073b5e4b0244368cc40566f98\",\"name\":\"box-python-sdk-test.txt\",\"description\":\"\",\"size\":20,\"path_collection\":{\"total_count\":1,\"entries\":[{\"type\":\"folder\",\"id\":\"0\",\"sequence_id\":null,\"etag\":null,\"name\":\"All Files\"}]},\"created_at\":\"2015-04-06T14:09:26-07:00\",\"modified_at\":\"2015-04-06T14:09:26-07:00\",\"trashed_at\":null,\"purged_at\":null,\"content_created_at\":\"2015-04-06T14:09:26-07:00\",\"content_modified_at\":\"2015-04-06T14:09:26-07:00\",\"created_by\":{\"type\":\"user\",\"id\":\"234630582\",\"name\":\"Jeff Boxdev\",\"login\":\"jrmeadows2+boxdev2015@gmail.com\"},\"modified_by\":{\"type\":\"user\",\"id\":\"234630582\",\"name\":\"Jeff Boxdev\",\"login\":\"jrmeadows2+boxdev2015@gmail.com\"},\"owned_by\":{\"type\":\"user\",\"id\":\"234630582\",\"name\":\"Jeff Boxdev\",\"login\":\"jrmeadows2+boxdev2015@gmail.com\"},\"shared_link\":null,\"parent\":{\"type\":\"folder\",\"id\":\"0\",\"sequence_id\":null,\"etag\":null,\"name\":\"All Files\"},\"item_status\":\"active\"}]}\u001b[0m\n",
      "box-python-sdk-test.txt\n"
     ]
    }
   ],
   "source": [
    "# Upload a file to Box!\n",
    "from StringIO import StringIO\n",
    "\n",
    "stream = StringIO()\n",
    "stream.write('Box Python SDK test!')\n",
    "stream.seek(0)\n",
    "box_file = client.folder('0').upload_stream(stream, 'box-python-sdk-test.txt')\n",
    "print box_file.name"
   ]
  },
  {
   "cell_type": "code",
   "execution_count": 8,
   "metadata": {
    "collapsed": false,
    "slideshow": {
     "slide_type": "subslide"
    }
   },
   "outputs": [
    {
     "name": "stdout",
     "output_type": "stream",
     "text": [
      "\u001b[36mGET https://api.box.com/2.0/files/28430517200/content {'headers': {u'Authorization': u'Bearer vMPUC6ZGTD3AlW1HFD5ZAL5RZMdMkrEi\\n'}}\u001b[0m\n",
      "\u001b[32mBox Python SDK test!\u001b[0m\n",
      "Box Python SDK test!\n",
      "28430517200\n"
     ]
    }
   ],
   "source": [
    "# Download the file's contents from Box\n",
    "print box_file.content()\n",
    "print box_file.id"
   ]
  },
  {
   "cell_type": "markdown",
   "metadata": {
    "slideshow": {
     "slide_type": "subslide"
    }
   },
   "source": [
    "The SDK provides information when an API call couldn't be completed.\n",
    "\n",
    "Let's try to upload the same file again - this time, the upload will fail!\n",
    "That's because the name is already in use."
   ]
  },
  {
   "cell_type": "code",
   "execution_count": 9,
   "metadata": {
    "collapsed": false,
    "slideshow": {
     "slide_type": "subslide"
    }
   },
   "outputs": [
    {
     "name": "stdout",
     "output_type": "stream",
     "text": [
      "\u001b[36mPOST https://upload.box.com/api/2.0/files/content {'data': {u'attributes': '{\"name\": \"box-python-sdk-test.txt\", \"parent\": {\"id\": \"0\"}}'},\n",
      " 'files': {u'file': (u'unused', <StringIO.StringIO instance at 0x106b30b00>)},\n",
      " 'headers': {u'Authorization': u'Bearer vMPUC6ZGTD3AlW1HFD5ZAL5RZMdMkrEi\\n'}}\u001b[0m\n",
      "\u001b[31m409\n",
      "{'content-length': '484', 'age': '0', 'server': 'ATS', 'connection': 'keep-alive', 'cache-control': 'no-cache, no-store', 'date': 'Mon, 06 Apr 2015 21:09:32 GMT', 'content-type': 'application/json'}\n",
      "'{\"type\":\"error\",\"status\":409,\"code\":\"item_name_in_use\",\"context_info\":{\"conflicts\":{\"type\":\"file\",\"id\":\"28430517200\",\"file_version\":{\"type\":\"file_version\",\"id\":\"27041592694\",\"sha1\":\"30e6d6373e1d275073b5e4b0244368cc40566f98\"},\"sequence_id\":\"0\",\"etag\":\"0\",\"sha1\":\"30e6d6373e1d275073b5e4b0244368cc40566f98\",\"name\":\"box-python-sdk-test.txt\"}},\"help_url\":\"http:\\\\/\\\\/developers.box.com\\\\/docs\\\\/#errors\",\"message\":\"Item with the same name already exists\",\"request_id\":\"8098479195522f60c3ff0d\"}'\u001b[0m\n"
     ]
    },
    {
     "ename": "BoxAPIException",
     "evalue": "\nMessage: Item with the same name already exists\nStatus: 409\nCode: item_name_in_use\nRequest id: 8098479195522f60c3ff0d\nHeaders: {'content-length': '484', 'age': '0', 'server': 'ATS', 'connection': 'keep-alive', 'cache-control': 'no-cache, no-store', 'date': 'Mon, 06 Apr 2015 21:09:32 GMT', 'content-type': 'application/json'}\nURL: https://upload.box.com/api/2.0/files/content\nMethod: POST",
     "output_type": "error",
     "traceback": [
      "\u001b[0;31m---------------------------------------------------------------------------\u001b[0m",
      "\u001b[0;31mBoxAPIException\u001b[0m                           Traceback (most recent call last)",
      "\u001b[0;32m<ipython-input-9-10f6336d1b3d>\u001b[0m in \u001b[0;36m<module>\u001b[0;34m()\u001b[0m\n\u001b[1;32m      1\u001b[0m \u001b[0mstream\u001b[0m\u001b[0;34m.\u001b[0m\u001b[0mseek\u001b[0m\u001b[0;34m(\u001b[0m\u001b[0;36m0\u001b[0m\u001b[0;34m)\u001b[0m\u001b[0;34m\u001b[0m\u001b[0m\n\u001b[0;32m----> 2\u001b[0;31m \u001b[0mbox_file\u001b[0m \u001b[0;34m=\u001b[0m \u001b[0mclient\u001b[0m\u001b[0;34m.\u001b[0m\u001b[0mfolder\u001b[0m\u001b[0;34m(\u001b[0m\u001b[0;34m'0'\u001b[0m\u001b[0;34m)\u001b[0m\u001b[0;34m.\u001b[0m\u001b[0mupload_stream\u001b[0m\u001b[0;34m(\u001b[0m\u001b[0mstream\u001b[0m\u001b[0;34m,\u001b[0m \u001b[0;34m'box-python-sdk-test.txt'\u001b[0m\u001b[0;34m)\u001b[0m\u001b[0;34m\u001b[0m\u001b[0m\n\u001b[0m",
      "\u001b[0;32m/Users/jmeadows/.virtualenvs/boxdev/lib/python2.7/site-packages/boxsdk/object/folder.pyc\u001b[0m in \u001b[0;36mupload_stream\u001b[0;34m(self, file_stream, file_name, preflight_check, preflight_expected_size)\u001b[0m\n\u001b[1;32m    182\u001b[0m             \u001b[0;34m'file'\u001b[0m\u001b[0;34m:\u001b[0m \u001b[0;34m(\u001b[0m\u001b[0;34m'unused'\u001b[0m\u001b[0;34m,\u001b[0m \u001b[0mfile_stream\u001b[0m\u001b[0;34m)\u001b[0m\u001b[0;34m,\u001b[0m\u001b[0;34m\u001b[0m\u001b[0m\n\u001b[1;32m    183\u001b[0m         }\n\u001b[0;32m--> 184\u001b[0;31m         \u001b[0mbox_response\u001b[0m \u001b[0;34m=\u001b[0m \u001b[0mself\u001b[0m\u001b[0;34m.\u001b[0m\u001b[0m_session\u001b[0m\u001b[0;34m.\u001b[0m\u001b[0mpost\u001b[0m\u001b[0;34m(\u001b[0m\u001b[0murl\u001b[0m\u001b[0;34m,\u001b[0m \u001b[0mdata\u001b[0m\u001b[0;34m=\u001b[0m\u001b[0mdata\u001b[0m\u001b[0;34m,\u001b[0m \u001b[0mfiles\u001b[0m\u001b[0;34m=\u001b[0m\u001b[0mfiles\u001b[0m\u001b[0;34m,\u001b[0m \u001b[0mexpect_json_response\u001b[0m\u001b[0;34m=\u001b[0m\u001b[0mFalse\u001b[0m\u001b[0;34m)\u001b[0m\u001b[0;34m\u001b[0m\u001b[0m\n\u001b[0m\u001b[1;32m    185\u001b[0m         \u001b[0mfile_response\u001b[0m \u001b[0;34m=\u001b[0m \u001b[0mbox_response\u001b[0m\u001b[0;34m.\u001b[0m\u001b[0mjson\u001b[0m\u001b[0;34m(\u001b[0m\u001b[0;34m)\u001b[0m\u001b[0;34m[\u001b[0m\u001b[0;34m'entries'\u001b[0m\u001b[0;34m]\u001b[0m\u001b[0;34m[\u001b[0m\u001b[0;36m0\u001b[0m\u001b[0;34m]\u001b[0m\u001b[0;34m\u001b[0m\u001b[0m\n\u001b[1;32m    186\u001b[0m         \u001b[0mfile_id\u001b[0m \u001b[0;34m=\u001b[0m \u001b[0mfile_response\u001b[0m\u001b[0;34m[\u001b[0m\u001b[0;34m'id'\u001b[0m\u001b[0;34m]\u001b[0m\u001b[0;34m\u001b[0m\u001b[0m\n",
      "\u001b[0;32m/Users/jmeadows/.virtualenvs/boxdev/lib/python2.7/site-packages/boxsdk/session/box_session.pyc\u001b[0m in \u001b[0;36mpost\u001b[0;34m(self, url, **kwargs)\u001b[0m\n\u001b[1;32m    336\u001b[0m             \u001b[0;34m`\u001b[0m\u001b[0municode\u001b[0m\u001b[0;34m`\u001b[0m\u001b[0;34m\u001b[0m\u001b[0m\n\u001b[1;32m    337\u001b[0m         \"\"\"\n\u001b[0;32m--> 338\u001b[0;31m         \u001b[0mresponse\u001b[0m \u001b[0;34m=\u001b[0m \u001b[0mself\u001b[0m\u001b[0;34m.\u001b[0m\u001b[0m_prepare_and_send_request\u001b[0m\u001b[0;34m(\u001b[0m\u001b[0;34m'POST'\u001b[0m\u001b[0;34m,\u001b[0m \u001b[0murl\u001b[0m\u001b[0;34m,\u001b[0m \u001b[0;34m**\u001b[0m\u001b[0mkwargs\u001b[0m\u001b[0;34m)\u001b[0m\u001b[0;34m\u001b[0m\u001b[0m\n\u001b[0m\u001b[1;32m    339\u001b[0m         \u001b[0;32mreturn\u001b[0m \u001b[0mBoxResponse\u001b[0m\u001b[0;34m(\u001b[0m\u001b[0mresponse\u001b[0m\u001b[0;34m)\u001b[0m\u001b[0;34m\u001b[0m\u001b[0m\n\u001b[1;32m    340\u001b[0m \u001b[0;34m\u001b[0m\u001b[0m\n",
      "\u001b[0;32m/Users/jmeadows/.virtualenvs/boxdev/lib/python2.7/site-packages/boxsdk/session/box_session.pyc\u001b[0m in \u001b[0;36m_prepare_and_send_request\u001b[0;34m(self, method, url, headers, auto_session_renewal, expect_json_response, attempt_number, **kwargs)\u001b[0m\n\u001b[1;32m    236\u001b[0m             \u001b[0mattempt_number\u001b[0m\u001b[0;34m,\u001b[0m\u001b[0;34m\u001b[0m\u001b[0m\n\u001b[1;32m    237\u001b[0m             \u001b[0mfile_stream_positions\u001b[0m\u001b[0;34m=\u001b[0m\u001b[0mfile_stream_positions\u001b[0m\u001b[0;34m,\u001b[0m\u001b[0;34m\u001b[0m\u001b[0m\n\u001b[0;32m--> 238\u001b[0;31m             \u001b[0;34m**\u001b[0m\u001b[0mkwargs\u001b[0m\u001b[0;34m\u001b[0m\u001b[0m\n\u001b[0m\u001b[1;32m    239\u001b[0m         )\n\u001b[1;32m    240\u001b[0m \u001b[0;34m\u001b[0m\u001b[0m\n",
      "\u001b[0;32m/Users/jmeadows/.virtualenvs/boxdev/lib/python2.7/site-packages/boxsdk/session/box_session.pyc\u001b[0m in \u001b[0;36m_make_request\u001b[0;34m(self, method, url, headers, auto_session_renewal, expect_json_response, attempt_number, **kwargs)\u001b[0m\n\u001b[1;32m    313\u001b[0m         )\n\u001b[1;32m    314\u001b[0m \u001b[0;34m\u001b[0m\u001b[0m\n\u001b[0;32m--> 315\u001b[0;31m         \u001b[0mself\u001b[0m\u001b[0;34m.\u001b[0m\u001b[0m_raise_on_unsuccessful_request\u001b[0m\u001b[0;34m(\u001b[0m\u001b[0mnetwork_response\u001b[0m\u001b[0;34m,\u001b[0m \u001b[0mexpect_json_response\u001b[0m\u001b[0;34m,\u001b[0m \u001b[0mmethod\u001b[0m\u001b[0;34m,\u001b[0m \u001b[0murl\u001b[0m\u001b[0;34m)\u001b[0m\u001b[0;34m\u001b[0m\u001b[0m\n\u001b[0m\u001b[1;32m    316\u001b[0m \u001b[0;34m\u001b[0m\u001b[0m\n\u001b[1;32m    317\u001b[0m         \u001b[0;32mreturn\u001b[0m \u001b[0mnetwork_response\u001b[0m\u001b[0;34m\u001b[0m\u001b[0m\n",
      "\u001b[0;32m/Users/jmeadows/.virtualenvs/boxdev/lib/python2.7/site-packages/boxsdk/session/box_session.pyc\u001b[0m in \u001b[0;36m_raise_on_unsuccessful_request\u001b[0;34m(self, network_response, expect_json_response, method, url)\u001b[0m\n\u001b[1;32m    175\u001b[0m                 \u001b[0mrequest_id\u001b[0m\u001b[0;34m=\u001b[0m\u001b[0mresponse_json\u001b[0m\u001b[0;34m.\u001b[0m\u001b[0mget\u001b[0m\u001b[0;34m(\u001b[0m\u001b[0;34m'request_id'\u001b[0m\u001b[0;34m,\u001b[0m \u001b[0mNone\u001b[0m\u001b[0;34m)\u001b[0m\u001b[0;34m,\u001b[0m\u001b[0;34m\u001b[0m\u001b[0m\n\u001b[1;32m    176\u001b[0m                 \u001b[0murl\u001b[0m\u001b[0;34m=\u001b[0m\u001b[0murl\u001b[0m\u001b[0;34m,\u001b[0m\u001b[0;34m\u001b[0m\u001b[0m\n\u001b[0;32m--> 177\u001b[0;31m                 \u001b[0mmethod\u001b[0m\u001b[0;34m=\u001b[0m\u001b[0mmethod\u001b[0m\u001b[0;34m,\u001b[0m\u001b[0;34m\u001b[0m\u001b[0m\n\u001b[0m\u001b[1;32m    178\u001b[0m             )\n\u001b[1;32m    179\u001b[0m         \u001b[0;32mif\u001b[0m \u001b[0mexpect_json_response\u001b[0m \u001b[0;32mand\u001b[0m \u001b[0;32mnot\u001b[0m \u001b[0mself\u001b[0m\u001b[0;34m.\u001b[0m\u001b[0m_is_json_response\u001b[0m\u001b[0;34m(\u001b[0m\u001b[0mnetwork_response\u001b[0m\u001b[0;34m)\u001b[0m\u001b[0;34m:\u001b[0m\u001b[0;34m\u001b[0m\u001b[0m\n",
      "\u001b[0;31mBoxAPIException\u001b[0m: \nMessage: Item with the same name already exists\nStatus: 409\nCode: item_name_in_use\nRequest id: 8098479195522f60c3ff0d\nHeaders: {'content-length': '484', 'age': '0', 'server': 'ATS', 'connection': 'keep-alive', 'cache-control': 'no-cache, no-store', 'date': 'Mon, 06 Apr 2015 21:09:32 GMT', 'content-type': 'application/json'}\nURL: https://upload.box.com/api/2.0/files/content\nMethod: POST"
     ]
    }
   ],
   "source": [
    "stream.seek(0)\n",
    "box_file = client.folder('0').upload_stream(stream, 'box-python-sdk-test.txt')"
   ]
  },
  {
   "cell_type": "markdown",
   "metadata": {
    "slideshow": {
     "slide_type": "subslide"
    }
   },
   "source": [
    "The Pre-flight check API will verify that a file will be accepted by Box before you send all the bytes over the wire. It can be used for both first-time uploads, and uploading new versions of an existing File (on /files/[id]/content). If the call returns a 200, then you can proceed with a standard upload call. Preflight checks verify all permissions as if the file was actually uploaded including:\n",
    "\n",
    "* Folder upload permission\n",
    "* File name collisions\n",
    "* file size caps\n",
    "* folder and file name restrictions*\n",
    "* folder and account storage quota"
   ]
  },
  {
   "cell_type": "code",
   "execution_count": 12,
   "metadata": {
    "collapsed": false,
    "slideshow": {
     "slide_type": "subslide"
    }
   },
   "outputs": [
    {
     "name": "stdout",
     "output_type": "stream",
     "text": [
      "\u001b[36mOPTIONS https://api.box.com/2.0/files/content {'data': '{\"name\": \"box-python-sdk-test.txt\", \"parent\": {\"id\": \"0\"}, \"size\": 0}',\n",
      " 'headers': {u'Authorization': u'Bearer wZrNb8pHQmDpybvrZzYSl243KtOVpUMX'}}\u001b[0m\n",
      "\u001b[31m409\n",
      "{'content-length': '485', 'age': '0', 'server': 'ATS', 'connection': 'keep-alive', 'cache-control': 'no-cache, no-store', 'date': 'Mon, 06 Apr 2015 21:10:33 GMT', 'content-type': 'application/json'}\n",
      "'{\"type\":\"error\",\"status\":409,\"code\":\"item_name_in_use\",\"context_info\":{\"conflicts\":{\"type\":\"file\",\"id\":\"28430517200\",\"file_version\":{\"type\":\"file_version\",\"id\":\"27041592694\",\"sha1\":\"30e6d6373e1d275073b5e4b0244368cc40566f98\"},\"sequence_id\":\"0\",\"etag\":\"0\",\"sha1\":\"30e6d6373e1d275073b5e4b0244368cc40566f98\",\"name\":\"box-python-sdk-test.txt\"}},\"help_url\":\"http:\\\\/\\\\/developers.box.com\\\\/docs\\\\/#errors\",\"message\":\"Item with the same name already exists\",\"request_id\":\"13995869325522f6491dd3a\"}'\u001b[0m\n"
     ]
    }
   ],
   "source": [
    "stream.seek(0)\n",
    "from boxsdk.exception import BoxAPIException\n",
    "try:\n",
    "    box_file = client.folder('0').upload_stream(stream, 'box-python-sdk-test.txt', preflight_check=True)\n",
    "except BoxAPIException:\n",
    "    pass"
   ]
  },
  {
   "cell_type": "code",
   "execution_count": 13,
   "metadata": {
    "collapsed": false,
    "slideshow": {
     "slide_type": "subslide"
    }
   },
   "outputs": [
    {
     "name": "stdout",
     "output_type": "stream",
     "text": [
      "\u001b[36mGET https://api.box.com/2.0/search {'headers': {u'Authorization': u'Bearer wZrNb8pHQmDpybvrZzYSl243KtOVpUMX'},\n",
      " 'params': {u'limit': 2, u'offset': 0, u'query': 'Box Python SDK test'}}\u001b[0m\n",
      "\u001b[32m{\"total_count\":1,\"entries\":[{\"type\":\"file\",\"id\":\"28430517200\",\"file_version\":{\"type\":\"file_version\",\"id\":\"27041592694\",\"sha1\":\"30e6d6373e1d275073b5e4b0244368cc40566f98\"},\"sequence_id\":\"0\",\"etag\":\"0\",\"sha1\":\"30e6d6373e1d275073b5e4b0244368cc40566f98\",\"name\":\"box-python-sdk-test.txt\",\"description\":\"\",\"size\":20,\"path_collection\":{\"total_count\":1,\"entries\":[{\"type\":\"folder\",\"id\":\"0\",\"sequence_id\":null,\"etag\":null,\"name\":\"All Files\"}]},\"created_at\":\"2015-04-06T14:09:26-07:00\",\"modified_at\":\"2015-04-06T14:09:26-07:00\",\"trashed_at\":null,\"purged_at\":null,\"content_created_at\":\"2015-04-06T14:09:26-07:00\",\"content_modified_at\":\"2015-04-06T14:09:26-07:00\",\"created_by\":{\"type\":\"user\",\"id\":\"234630582\",\"name\":\"Jeff Boxdev\",\"login\":\"jrmeadows2+boxdev2015@gmail.com\"},\"modified_by\":{\"type\":\"user\",\"id\":\"234630582\",\"name\":\"Jeff Boxdev\",\"login\":\"jrmeadows2+boxdev2015@gmail.com\"},\"owned_by\":{\"type\":\"user\",\"id\":\"234630582\",\"name\":\"Jeff Boxdev\",\"login\":\"jrmeadows2+boxdev2015@gmail.com\"},\"shared_link\":null,\"parent\":{\"type\":\"folder\",\"id\":\"0\",\"sequence_id\":null,\"etag\":null,\"name\":\"All Files\"},\"item_status\":\"active\"}],\"limit\":2,\"offset\":0}\u001b[0m\n",
      "box-python-sdk-test.txt\n",
      "2015-04-06T14:09:26-07:00\n"
     ]
    }
   ],
   "source": [
    "# See if we can find the file on Box using search (may need to wait for Box to index the file)\n",
    "results = client.search('Box Python SDK test', 2, 0)\n",
    "matching_results = (r for r in results if r.id == box_file.id)\n",
    "for m in matching_results:\n",
    "    print m.name\n",
    "    print m.created_at\n",
    "    break\n",
    "else:\n",
    "    print 'No match found'"
   ]
  }
 ],
 "metadata": {
  "celltoolbar": "Slideshow",
  "kernelspec": {
   "display_name": "Python 2",
   "language": "python",
   "name": "python2"
  },
  "language_info": {
   "codemirror_mode": {
    "name": "ipython",
    "version": 2
   },
   "file_extension": ".py",
   "mimetype": "text/x-python",
   "name": "python",
   "nbconvert_exporter": "python",
   "pygments_lexer": "ipython2",
   "version": "2.7.9"
  }
 },
 "nbformat": 4,
 "nbformat_minor": 0
}
